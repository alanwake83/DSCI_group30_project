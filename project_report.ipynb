{
 "cells": [
  {
   "cell_type": "code",
   "execution_count": null,
   "id": "23507d4d-583b-4d68-9498-ce12f9ad094a",
   "metadata": {},
   "outputs": [],
   "source": [
    "library(tidyverse)\n",
    "library(repr)\n",
    "library(tidymodels)\n",
    "library(RColorBrewer)\n",
    "options(repr.matrix.max.rows = 6)"
   ]
  },
  {
   "cell_type": "markdown",
   "id": "f041f618-24bc-41d4-a9d7-237d1701adb5",
   "metadata": {},
   "source": [
    "#### Table 1: Tidy Processed Cleveland Dataset"
   ]
  },
  {
   "cell_type": "code",
   "execution_count": null,
   "id": "856392ed-89e0-4f0d-9466-7339af483b7d",
   "metadata": {},
   "outputs": [],
   "source": [
    "cleveland_data <- read_csv(\"https://archive.ics.uci.edu/ml/machine-learning-databases/heart-disease/processed.cleveland.data\",\n",
    "        col_names = FALSE)\n",
    "\n",
    "colnames(cleveland_data) <- c(\"age\", \"sex\", \"cp\", \"trestbps\", \"chol\", \"fbs\", \"restecg\", \"thalach\", \"exang\", \"oldpeak\", \"slope\", \"ca\", \"thal\", \"num\")\n",
    "\n",
    "tidy_cleveland_data <- cleveland_data |>\n",
    "select(\"age\", \"trestbps\", \"chol\", \"thalach\", \"oldpeak\", \"thal\") |>\n",
    "mutate(across(age:thal, ~na_if(., \"?\"))) #This line of code was referenced from Wickham et al. (n.d.)\n",
    "tidy_cleveland_data$thal[tidy_cleveland_data$thal == \"3.0\"] <- \"normal\" #This line of code was referenced from Naveen (2022)\n",
    "tidy_cleveland_data$thal[tidy_cleveland_data$thal == \"6.0\"] <- \"fixed_defect\" #This line of code was referenced from Naveen (2022)\n",
    "tidy_cleveland_data$thal[tidy_cleveland_data$thal == \"7.0\"] <- \"reversible_defect\" #This line of code was referenced from Naveen (2022)\n",
    "tidy_cleveland_data <- mutate(tidy_cleveland_data, thal = as.factor(thal))\n",
    "tidy_cleveland_data"
   ]
  },
  {
   "cell_type": "markdown",
   "id": "b71e585e-2f5c-46eb-aed7-86bf2999622c",
   "metadata": {},
   "source": [
    "#### Table 2: Training Cleveland Dataset"
   ]
  },
  {
   "cell_type": "code",
   "execution_count": null,
   "id": "21e760b0-6aab-4bb8-af41-ee8d2faa4ac9",
   "metadata": {},
   "outputs": [],
   "source": [
    "set.seed(234) \n",
    "cleveland_split <- initial_split(tidy_cleveland_data, prop = 0.75, strata = thal)  \n",
    "cleveland_train <- training(cleveland_split)   \n",
    "cleveland_train"
   ]
  },
  {
   "cell_type": "markdown",
   "id": "7cf0a8cc-4a0b-4851-87f6-c8251c392c69",
   "metadata": {},
   "source": [
    "#### Table 3: Testing Cleveland Dataset"
   ]
  },
  {
   "cell_type": "code",
   "execution_count": null,
   "id": "488d8af6-4496-409e-941e-68221138e2de",
   "metadata": {},
   "outputs": [],
   "source": [
    "set.seed(234) \n",
    "cleveland_test <- testing(cleveland_split)\n",
    "cleveland_test"
   ]
  },
  {
   "cell_type": "markdown",
   "id": "cfdd6b8c-719f-45cd-a175-88e4c19d0e43",
   "metadata": {},
   "source": [
    "#### Table 4: Means of the Predictor Variables "
   ]
  },
  {
   "cell_type": "code",
   "execution_count": null,
   "id": "3a3d83da-1de8-4d81-98aa-43bc5b1d30d0",
   "metadata": {},
   "outputs": [],
   "source": [
    "cleveland_table <- cleveland_train |>\n",
    "summarize(across(age:oldpeak, mean))\n",
    "cleveland_table"
   ]
  },
  {
   "cell_type": "markdown",
   "id": "dc7968fc-edf4-40fb-a9ab-15ba2b9a2ef7",
   "metadata": {},
   "source": [
    "#### Table 5: Number of Observations in Each Class"
   ]
  },
  {
   "cell_type": "code",
   "execution_count": null,
   "id": "fdf2a758-4f0c-44ab-ab06-d4ceb503a660",
   "metadata": {},
   "outputs": [],
   "source": [
    "cleveland_table_2 <- group_by(cleveland_train, thal) |>\n",
    "summarize(count = n())\n",
    "cleveland_table_2"
   ]
  },
  {
   "cell_type": "markdown",
   "id": "6c3da1d7-8d10-481a-b153-f5fdd37089f0",
   "metadata": {},
   "source": [
    "#### Table 6: Rows That Have Missing Data"
   ]
  },
  {
   "cell_type": "code",
   "execution_count": null,
   "id": "430da085-2cc2-4549-9996-530fa6115e42",
   "metadata": {},
   "outputs": [],
   "source": [
    "cleveland_table_3 <- cleveland_train[!complete.cases(cleveland_train), ] #This line of code was referenced from Gili (2022)\n",
    "cleveland_table_3"
   ]
  },
  {
   "cell_type": "markdown",
   "id": "c36798eb-1eb2-455b-a728-2ddda6264508",
   "metadata": {},
   "source": [
    "#### Table 7: Number of Rows That Have Missing Data per Column"
   ]
  },
  {
   "cell_type": "code",
   "execution_count": null,
   "id": "1ae5f55e-63ae-46ec-9662-c4f7badca811",
   "metadata": {},
   "outputs": [],
   "source": [
    "cleveland_table_4 <- cleveland_train |>\n",
    "    map_df(~ sum(is.na(.))) #This line of code was referenced from Kiniry (2019).\n",
    "cleveland_table_4"
   ]
  },
  {
   "cell_type": "code",
   "execution_count": null,
   "id": "39d3b92d-e278-4de5-ab13-44b15fb79192",
   "metadata": {},
   "outputs": [],
   "source": [
    "options(repr.plot.width = 14, repr.plot.height = 10)\n",
    "cleveland_plot_1 <- cleveland_train |>\n",
    "    ggplot(aes(x = trestbps, fill = thal)) +\n",
    "    geom_histogram(binwidth = 5) +\n",
    "    labs(x = \"Resting Blood Pressure on Admission to Hospital (mmHg)\", y = \"Number of Patients\",  fill = \"Thallium Scintigraphy Test Results\") +\n",
    "    ggtitle(\"Figure 1: The Resting Blood Pressure of Patients on Admission to Hospital\") +\n",
    "    scale_fill_brewer(palette = \"Reds\")+\n",
    "    theme(text = element_text(size = 20))\n",
    "cleveland_plot_1"
   ]
  },
  {
   "cell_type": "code",
   "execution_count": null,
   "id": "b5fbfdfa-f407-49ca-9f35-e86a942303c6",
   "metadata": {},
   "outputs": [],
   "source": [
    "cleveland_plot_2 <- cleveland_train |>\n",
    "    ggplot(aes(x = age, fill = thal)) +\n",
    "    geom_histogram(binwidth = 2) +\n",
    "    labs(x = \"Age (Years)\", y = \"Number of Patients\",  fill = \"Thallium Scintigraphy Test Results\") +\n",
    "    ggtitle(\"Figure 2: The Age of Patients\") +\n",
    "    scale_fill_brewer(palette = \"Reds\") +\n",
    "    theme(text = element_text(size = 20))\n",
    "cleveland_plot_2"
   ]
  },
  {
   "cell_type": "code",
   "execution_count": null,
   "id": "6fc94758-6ff4-4622-9a6b-3e3bf84d29ba",
   "metadata": {},
   "outputs": [],
   "source": [
    "cleveland_plot_3 <- cleveland_train |>\n",
    "    ggplot(aes(x = chol, fill = thal)) +\n",
    "    geom_histogram(binwidth = 10) +\n",
    "    labs(x = \"Serum Cholesterol (mg/dl)\", y = \"Number of Patients\",  fill = \"Thallium Scintigraphy Test Results\") +\n",
    "    ggtitle(\"Figure 3: The Serum Cholesterol Levels of Patients\") +\n",
    "    scale_fill_brewer(palette = \"Reds\") +\n",
    "    theme(text = element_text(size = 20))\n",
    "cleveland_plot_3"
   ]
  },
  {
   "cell_type": "code",
   "execution_count": null,
   "id": "3864ed1f-fccf-4c47-bf15-511d0f504489",
   "metadata": {},
   "outputs": [],
   "source": [
    "cleveland_plot_4 <- cleveland_train |>\n",
    "    ggplot(aes(x = thalach, fill = thal)) +\n",
    "    geom_histogram(binwidth = 5) +\n",
    "    labs(x = \"Maximum Heart Rate Achieved (bpm)\", y = \"Number of Patients\",  fill = \"Thallium Scintigraphy Test Results\") +\n",
    "    ggtitle(\"Figure 4: The Maximum Heart Rate Achieved by Patients\") +\n",
    "    scale_fill_brewer(palette = \"Reds\") +\n",
    "    theme(text = element_text(size = 20))\n",
    "cleveland_plot_4"
   ]
  },
  {
   "cell_type": "code",
   "execution_count": null,
   "id": "4d24239b-f82c-46c4-90d6-984d3ffe01c0",
   "metadata": {},
   "outputs": [],
   "source": [
    "cleveland_plot_5 <- cleveland_train |>\n",
    "    ggplot(aes(x = oldpeak, fill = thal)) +\n",
    "    geom_histogram(binwidth = 0.5) +\n",
    "    labs(x = \"ST Depression Induced by Exercise Relative to Rest (Units)\", y = \"Number of Patients\",  fill = \"Thallium Scintigraphy Test Results\") +\n",
    "    ggtitle(\"Figure 5: The Value of the ST Depression Induced by Exercise Relative to Rest in Patients\") +\n",
    "    scale_fill_brewer(palette = \"Reds\") +\n",
    "    theme(text = element_text(size = 20))\n",
    "cleveland_plot_5"
   ]
  },
  {
   "cell_type": "code",
   "execution_count": null,
   "id": "151d3575-a571-460d-91d6-d14d8c0d3bf3",
   "metadata": {},
   "outputs": [],
   "source": [
    "set.seed(69)\n",
    "\n",
    "cleveland_recipe <- recipe(thal ~ ., data = cleveland_train) |>\n",
    "    step_scale(all_predictors()) |>\n",
    "    step_center(all_predictors())\n",
    "\n",
    "knn_tune <- nearest_neighbor(weight_func = \"rectangular\", neighbors = tune()) |>\n",
    "       set_engine(\"kknn\") |>\n",
    "       set_mode(\"classification\")\n",
    "\n",
    "cleveland_vfold <- vfold_cv(cleveland_train, v = 5, strata = thal)\n",
    "\n",
    "k_value <- tibble(neighbors = seq(from = 2, to = 20, by = 1))\n",
    "\n",
    "cleveland_results <- workflow() |>\n",
    "       add_recipe(cleveland_recipe) |>\n",
    "       add_model(knn_tune) |>\n",
    "       tune_grid(resamples = cleveland_vfold, grid = k_value) |>\n",
    "       collect_metrics()\n",
    "\n",
    "cross_val_plot <- cleveland_results |>\n",
    "filter(.metric == \"accuracy\") |>\n",
    "ggplot(aes(x = neighbors, y = mean)) +\n",
    "  geom_point() +\n",
    "  geom_line() +\n",
    "  labs(x = \"Neighbors (k)\", y = \"Accuracy\")\n",
    "cross_val_plot\n"
   ]
  },
  {
   "cell_type": "code",
   "execution_count": null,
   "id": "9db9f687-c370-4d30-a347-dcff1ab6a4ff",
   "metadata": {},
   "outputs": [],
   "source": [
    "cleveland_spec <- nearest_neighbor(weight_func = \"rectangular\", neighbors = 17) |>\n",
    "       set_engine(\"kknn\") |>\n",
    "       set_mode(\"classification\")\n",
    "\n",
    "cleveland_fit <- workflow() |>\n",
    "       add_recipe(cleveland_recipe) |>\n",
    "       add_model(cleveland_spec) |>\n",
    "       fit(data = cleveland_train)\n",
    "cleveland_fit\n"
   ]
  },
  {
   "cell_type": "code",
   "execution_count": null,
   "id": "488408d0-f354-417b-9798-a3d8521f590d",
   "metadata": {},
   "outputs": [],
   "source": [
    "cleveland_predictions <- predict(cleveland_fit, cleveland_test) |>\n",
    "       bind_cols(cleveland_test)\n",
    "cleveland_predictions\n",
    "\n",
    "cleveland_metrics <- cleveland_predictions |>\n",
    "metrics(truth = thal, estimate = .pred_class) |>\n",
    "filter(.metric == \"accuracy\")\n",
    "cleveland_metrics\n",
    "\n",
    "cleveland_conf_mat <- cleveland_predictions |>\n",
    "       conf_mat(truth = thal, estimate = .pred_class)\n",
    "cleveland_conf_mat"
   ]
  },
  {
   "cell_type": "code",
   "execution_count": null,
   "id": "3cf0067b-998e-49cc-80ec-bbcaa5f48ea7",
   "metadata": {},
   "outputs": [],
   "source": [
    "cleveland_misclass <- cleveland_predictions |>\n",
    "                filter(.pred_class != thal)\n",
    "\n",
    "misclass_plot_1_pred <- ggplot(cleveland_misclass, aes(x = age, y = trestbps, color = .pred_class)) +\n",
    "                geom_point() +\n",
    "                labs(x = \"Age (years)\", y = \"Resting Blood Pressure on Admission to Hospital (mmHg)\", \n",
    "                     title = \"Figure 1: Comparing the Effects of Age and Resting Blood Pressure on Classification\", \n",
    "                     color = \"Thallium Scintigraphy Test Results\") +\n",
    "                theme(text = element_text(size = 20))\n",
    "\n",
    "misclass_plot_1_pred\n"
   ]
  },
  {
   "cell_type": "code",
   "execution_count": null,
   "id": "9312b152-1a8a-48cb-ae0b-b46231777350",
   "metadata": {},
   "outputs": [],
   "source": [
    "misclass_plot_2_pred <- ggplot(cleveland_misclass, aes(x = chol, y = thalach, color = .pred_class)) +\n",
    "                geom_point() +\n",
    "                labs(x = \"Serum Cholesterol (mg/dl)\", y = \"Maximum Heart Rate Achieved (bpm)\", \n",
    "                     title = \"Figure 2: Comparing the Effects of Cholesterol and Maximum Heart Rate on Classification\", \n",
    "                     color = \"Thallium Scintigraphy Test Results\") +\n",
    "                theme(text = element_text(size = 20))\n",
    "misclass_plot_2_pred\n"
   ]
  },
  {
   "cell_type": "code",
   "execution_count": null,
   "id": "bfb789a4-677d-4a74-9dcf-e3c5f4d997fb",
   "metadata": {},
   "outputs": [],
   "source": [
    "misclass_plot_3_pred <- ggplot(cleveland_misclass, aes(x = age, y = oldpeak, color = .pred_class)) +\n",
    "                geom_point() +\n",
    "                labs(x = \"Age (years)\", y = \"ST Depression Induced by Exercise Relative to Rest (Units)\", \n",
    "                     title = \"Figure 3: Comparing the Effects of Age and ST Depression on Classification\", \n",
    "                     color = \"Thallium Scintigraphy Test Results\") +\n",
    "                theme(text = element_text(size = 20))\n",
    "misclass_plot_3_pred"
   ]
  }
 ],
 "metadata": {
  "kernelspec": {
   "display_name": "R",
   "language": "R",
   "name": "ir"
  },
  "language_info": {
   "codemirror_mode": "r",
   "file_extension": ".r",
   "mimetype": "text/x-r-source",
   "name": "R",
   "pygments_lexer": "r",
   "version": "4.1.3"
  }
 },
 "nbformat": 4,
 "nbformat_minor": 5
}
