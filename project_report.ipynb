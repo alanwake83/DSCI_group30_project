{
 "cells": [
  {
   "cell_type": "markdown",
   "id": "bef31dbf-bb40-4f9c-8e9f-b7d924aeb79a",
   "metadata": {},
   "source": [
    "# The Classification of Heart Defects from the Results of a Thalium Scintigraphy Test."
   ]
  },
  {
   "cell_type": "markdown",
   "id": "10075d02-59d1-4770-b3f8-a63866cc1668",
   "metadata": {},
   "source": [
    "## Introduction"
   ]
  },
  {
   "cell_type": "markdown",
   "id": "d4840ea7-0a76-4705-b6f9-e0c1cf010053",
   "metadata": {},
   "source": [
    "Thallium scintigraphy tests are a type of cardiography test used primarily within patients with artery diseases, and atypical chest pains, but can be used for a variety of heart diseases, as a form of non-invasive myocardial imaging that can tell if a patient's defect by how much blood can flow through vesicles (Arrighi, 2019). The results of this test are classified into three types: no defect, a fixed defect in which only scar tissue exists, and a reversible defect in which both scar and viable heart tissues exist (Mckillop, 1980). These tests are typically done in a clinical setting while quantifying a number of other variables such as maximum heart rate, blood pressure and age of the person taking the test, and are accompanied by other tests such as tests which quantify exercise-induced ST depression. The goal of this project is to answer how are the results of a Thallium scintigraphy test determining heart defect severity, and therefore how is heart defect severity, affected by age, resting blood pressure, maximum heart rate achieved in-test, and ST depression. We think that the four predictor variables will all impact the likelihood of the THAL test having a specific result. For AGE for example, previous research has shown that heart failure is very common in elderly due to the fact that the structure and function of the heart is affected by a variety of factors, including natural aging, chronic disease and medication, so we would predict that the results will show an increase in fixed defects and reversible defects in older people (Benjamin, 2019). ST depression (OLDPEAK) can also play a role in signifying heart disease as it is the difference between ST-segment depression observed during exercise compared to rest, higher depressions increase chances for more severe defects (Lazzarni, 2013). Abnormally high heart rate (THALACH), which is quantified in the THAL tests can also be considered as a sign of heart diseases (Bassan, 2005), this is also seen in systolic blood pressure (TRESTBPS) which when high can actually lead to a higher chance of getting a heart defect (Vasan, 2001). From the above information we can see that each of these variables can be used as predictors and thus can be helpful in  real-life settings. Quantifying which variables are significant predictors can help healthcare workers or patients themselves determine when to look for a heart defect, for example increasing the frequency of tests once a patient reaches the age that our data shows an increase of heart defects at. "
   ]
  },
  {
   "cell_type": "markdown",
   "id": "a3c8ea16-2e36-425b-a631-b7d1a384e100",
   "metadata": {},
   "source": [
    "## Methods and Results"
   ]
  },
  {
   "cell_type": "markdown",
   "id": "b426ee65-52e2-4079-a761-d89b274b0871",
   "metadata": {},
   "source": [
    "We will analyze the “Cleveland Heart Disease” dataset to determine how certain variables affect what kind of heart defect someone has. This dataset originally had 76 variables, but we will be using the processed dataset which has only 14, which we further limited to **thal**, **thalach**, **age**, **oldpeak**, and **trestbps** which we believe will be important signifiers of the results. We will be creating a classifier that will help us to classify the presence or absence of a heart defect and its type, reversible or irreversible. "
   ]
  },
  {
   "cell_type": "markdown",
   "id": "f9f55ed3-374c-460e-a89f-8d2666fe75cd",
   "metadata": {},
   "source": [
    "### Preprocessing and Exploratory Data Analysis\n"
   ]
  },
  {
   "cell_type": "markdown",
   "id": "9b7334d7-ad54-48d0-8737-e670e9ace525",
   "metadata": {},
   "source": [
    "#### Loading in Libraries and Data Set"
   ]
  },
  {
   "cell_type": "markdown",
   "id": "9a3b4c0b-d6bb-45df-b418-27a8411a090e",
   "metadata": {},
   "source": [
    "In this first step, we import different libraries that we need to perform our data analysis."
   ]
  },
  {
   "cell_type": "code",
   "execution_count": null,
   "id": "23507d4d-583b-4d68-9498-ce12f9ad094a",
   "metadata": {},
   "outputs": [],
   "source": [
    "library(tidyverse)\n",
    "library(repr)\n",
    "library(tidymodels)\n",
    "library(RColorBrewer)\n",
    "install.packages(\"kknn\")\n",
    "options(repr.matrix.max.rows = 6)"
   ]
  },
  {
   "cell_type": "markdown",
   "id": "a183c0e7-39d6-4fa0-8bc1-e221de256b8e",
   "metadata": {},
   "source": [
    "In the second step, we load the `processed.cleveland.data` dataset from the internet. This data is not yet suitable for our data analysis, so some changes to the data must be made before we start."
   ]
  },
  {
   "cell_type": "markdown",
   "id": "50ee8df9-3760-475e-8aab-898e23c978e2",
   "metadata": {},
   "source": [
    "#### Table 1: Processed Cleveland Dataset"
   ]
  },
  {
   "cell_type": "code",
   "execution_count": null,
   "id": "d505e29b-de8d-4a25-80ca-79dcd342661e",
   "metadata": {},
   "outputs": [],
   "source": [
    "cleveland_data <- read_csv(\"https://archive.ics.uci.edu/ml/machine-learning-databases/heart-disease/processed.cleveland.data\",\n",
    "        col_names = FALSE)\n",
    "cleveland_data"
   ]
  },
  {
   "cell_type": "markdown",
   "id": "e96e2630-637c-4884-bc4f-a6990a5cd8bd",
   "metadata": {},
   "source": [
    "#### Tidying the Data Set"
   ]
  },
  {
   "cell_type": "markdown",
   "id": "600770e7-a474-4bef-b455-83b29331ddc4",
   "metadata": {},
   "source": [
    "In the third step, we clean and tidy the data to make it suitable for our data analysis.\n",
    "\n",
    "When looking at **Table 1**, the data frame does not contain any column names, and some columns should be under the datatype `<fct>` but are labelled as `<dbl>` or `<chr>`. These need to be changed to make the data tidy. It can also be seen that each column only contains numbers, with missing data being represented by a question mark.\n",
    "\n",
    "To tidy our data, we first added the appropriate column names listed on the website where the data set was obtained by using `colnames` on the imported data set. After, we selected the columns needed for our analysis: **age**, **trestbps**, **chol**, **oldpeak**, and **thal**. The columns that contain question marks to represent missing data are not in a very useful form, `mutate` and `across` were used to change the question marks into NA values that can be used.\n",
    "\n",
    "The **thal** column must be modified so that the actual class names are shown instead of numbers. The website where the data set was obtained indicates that normal is when **thal** = 3.0, fixed defect is when **thal** = 6.0, and reversible defect is when **thal** = 7.0. Once this step was completed, `mutate` was used to change the data type from `<chr>` to `<fct>`."
   ]
  },
  {
   "cell_type": "markdown",
   "id": "f041f618-24bc-41d4-a9d7-237d1701adb5",
   "metadata": {},
   "source": [
    "#### Table 2: Tidy Processed Cleveland Dataset"
   ]
  },
  {
   "cell_type": "code",
   "execution_count": null,
   "id": "856392ed-89e0-4f0d-9466-7339af483b7d",
   "metadata": {},
   "outputs": [],
   "source": [
    "colnames(cleveland_data) <- c(\"age\", \"sex\", \"cp\", \"trestbps\", \"chol\", \"fbs\", \"restecg\", \"thalach\", \"exang\", \"oldpeak\", \"slope\", \"ca\", \"thal\", \"num\")\n",
    "\n",
    "tidy_cleveland_data <- cleveland_data |>\n",
    "select(\"age\", \"trestbps\", \"chol\", \"thalach\", \"oldpeak\", \"thal\") |>\n",
    "mutate(across(age:thal, ~na_if(., \"?\"))) #This line of code was referenced from Wickham et al. (n.d.)\n",
    "tidy_cleveland_data$thal[tidy_cleveland_data$thal == \"3.0\"] <- \"normal\" #This line of code was referenced from Naveen (2022)\n",
    "tidy_cleveland_data$thal[tidy_cleveland_data$thal == \"6.0\"] <- \"fixed_defect\" #This line of code was referenced from Naveen (2022)\n",
    "tidy_cleveland_data$thal[tidy_cleveland_data$thal == \"7.0\"] <- \"reversible_defect\" #This line of code was referenced from Naveen (2022)\n",
    "tidy_cleveland_data <- mutate(tidy_cleveland_data, thal = as.factor(thal))\n",
    "tidy_cleveland_data"
   ]
  },
  {
   "cell_type": "markdown",
   "id": "f7a32e7c-4fc1-4459-846b-8ac3a96dc3d2",
   "metadata": {},
   "source": [
    "#### Splitting the Data Set Into Training and Testing Sets"
   ]
  },
  {
   "cell_type": "markdown",
   "id": "27bc6eb7-4542-436e-96a7-9ece9e6c99fd",
   "metadata": {},
   "source": [
    "Once the data is tidy, it can be split into training and testing sets. We set a random seed to ensure that the random split is reproducible and used `initial_split` to split the data frame. The data was divided, with 75% for the training set and 25% for the testing set, with `strata` being set to **thal**. The use of `initial_split` ensures there is no bias in dividing the data set and maintains the proportions of each class. Splitting the data allows for the model to be trained and then tested afterward. \n",
    "\n",
    "The split provided 227 rows in the training set and 76 rows in the testing set (seen by the tibble displaying the number of rows in **Table 3** and **Table 4** below). Having this amount of data in each set means that there will be enough data to train a classifier and evaluate its performance. From this point forward, only the training set will be used until the data is tested."
   ]
  },
  {
   "cell_type": "markdown",
   "id": "b71e585e-2f5c-46eb-aed7-86bf2999622c",
   "metadata": {},
   "source": [
    "#### Table 3: Training Cleveland Dataset"
   ]
  },
  {
   "cell_type": "code",
   "execution_count": null,
   "id": "21e760b0-6aab-4bb8-af41-ee8d2faa4ac9",
   "metadata": {},
   "outputs": [],
   "source": [
    "set.seed(234) \n",
    "cleveland_split <- initial_split(tidy_cleveland_data, prop = 0.75, strata = thal)  \n",
    "cleveland_train <- training(cleveland_split)   \n",
    "cleveland_train"
   ]
  },
  {
   "cell_type": "markdown",
   "id": "7cf0a8cc-4a0b-4851-87f6-c8251c392c69",
   "metadata": {},
   "source": [
    "#### Table 4: Testing Cleveland Dataset"
   ]
  },
  {
   "cell_type": "code",
   "execution_count": null,
   "id": "488d8af6-4496-409e-941e-68221138e2de",
   "metadata": {},
   "outputs": [],
   "source": [
    "set.seed(234) \n",
    "cleveland_test <- testing(cleveland_split)\n",
    "cleveland_test"
   ]
  },
  {
   "cell_type": "markdown",
   "id": "9308961b-9e5e-49de-88f1-a9fb5feed33f",
   "metadata": {},
   "source": [
    "#### Summarizing the Data"
   ]
  },
  {
   "cell_type": "markdown",
   "id": "e7d58a18-772d-4a29-bef8-a6e21bf01c3f",
   "metadata": {},
   "source": [
    "To complete the exploratory data analysis, we created 4 different tables that display what data can be found in our training set. \n",
    "\n",
    "The wide range of mean values for each predictor seen in **Table 5** (made using `summarize` and `across`) indicates that our classification model most likely needs to scale and centre the predictors as some means are much larger than others, which will impact how k-nearest neighbours classify each point. **Table 6** (made using `group_by` and `summarize`) shows that there is a higher proportion of individuals classified as normal or having a reversible defect. This indicates the majority of the classes predicted by the classifier would be normal and reversible defects. **Table 7** (finds observations with NA values) and **Table 8** (uses `map_df` to sum NA values in each column) display that there are not many NA values, so they won't affect the classification by much."
   ]
  },
  {
   "cell_type": "markdown",
   "id": "cfdd6b8c-719f-45cd-a175-88e4c19d0e43",
   "metadata": {},
   "source": [
    "#### Table 5: Means of the Predictor Variables "
   ]
  },
  {
   "cell_type": "code",
   "execution_count": null,
   "id": "3a3d83da-1de8-4d81-98aa-43bc5b1d30d0",
   "metadata": {},
   "outputs": [],
   "source": [
    "cleveland_table <- cleveland_train |>\n",
    "summarize(across(age:oldpeak, mean))\n",
    "cleveland_table"
   ]
  },
  {
   "cell_type": "markdown",
   "id": "dc7968fc-edf4-40fb-a9ab-15ba2b9a2ef7",
   "metadata": {},
   "source": [
    "#### Table 6: Number of Observations in Each Class"
   ]
  },
  {
   "cell_type": "code",
   "execution_count": null,
   "id": "fdf2a758-4f0c-44ab-ab06-d4ceb503a660",
   "metadata": {},
   "outputs": [],
   "source": [
    "cleveland_table_2 <- group_by(cleveland_train, thal) |>\n",
    "summarize(count = n())\n",
    "cleveland_table_2"
   ]
  },
  {
   "cell_type": "markdown",
   "id": "6c3da1d7-8d10-481a-b153-f5fdd37089f0",
   "metadata": {},
   "source": [
    "#### Table 7: Rows That Have Missing Data"
   ]
  },
  {
   "cell_type": "code",
   "execution_count": null,
   "id": "430da085-2cc2-4549-9996-530fa6115e42",
   "metadata": {},
   "outputs": [],
   "source": [
    "cleveland_table_3 <- cleveland_train[!complete.cases(cleveland_train), ] #This line of code was referenced from Gili (2022)\n",
    "cleveland_table_3"
   ]
  },
  {
   "cell_type": "markdown",
   "id": "c36798eb-1eb2-455b-a728-2ddda6264508",
   "metadata": {},
   "source": [
    "#### Table 8: Number of Rows That Have Missing Data per Column"
   ]
  },
  {
   "cell_type": "code",
   "execution_count": null,
   "id": "1ae5f55e-63ae-46ec-9662-c4f7badca811",
   "metadata": {},
   "outputs": [],
   "source": [
    "cleveland_table_4 <- cleveland_train |>\n",
    "    map_df(~ sum(is.na(.))) #This line of code was referenced from Kiniry (2019).\n",
    "cleveland_table_4"
   ]
  },
  {
   "cell_type": "markdown",
   "id": "25519e52-8ceb-4d17-af47-a05d1d2bff05",
   "metadata": {},
   "source": [
    "#### Visualizing the Data"
   ]
  },
  {
   "cell_type": "markdown",
   "id": "5e526390-57cd-4fd4-862e-538b4e71aa46",
   "metadata": {},
   "source": [
    "The visualizations below contain histograms that show how many of each class are found at different values of the predictors. The visualizations show that the trends of some predictors in the data set such as **chol** and **thalach** don’t exactly follow our preliminary research."
   ]
  },
  {
   "cell_type": "code",
   "execution_count": null,
   "id": "39d3b92d-e278-4de5-ab13-44b15fb79192",
   "metadata": {},
   "outputs": [],
   "source": [
    "options(repr.plot.width = 14, repr.plot.height = 10)\n",
    "cleveland_plot_1 <- cleveland_train |>\n",
    "    ggplot(aes(x = trestbps, fill = thal)) +\n",
    "    geom_histogram(binwidth = 5) +\n",
    "    labs(x = \"Resting Blood Pressure on Admission to Hospital (mmHg)\", y = \"Number of Patients\",  fill = \"Thallium Scintigraphy Test Results\") +\n",
    "    ggtitle(\"Figure 1: The Resting Blood Pressure of Patients on Admission to Hospital\") +\n",
    "    scale_fill_brewer(palette = \"Reds\")+\n",
    "    theme(text = element_text(size = 20))\n",
    "cleveland_plot_1"
   ]
  },
  {
   "cell_type": "code",
   "execution_count": null,
   "id": "b5fbfdfa-f407-49ca-9f35-e86a942303c6",
   "metadata": {},
   "outputs": [],
   "source": [
    "cleveland_plot_2 <- cleveland_train |>\n",
    "    ggplot(aes(x = age, fill = thal)) +\n",
    "    geom_histogram(binwidth = 2) +\n",
    "    labs(x = \"Age (Years)\", y = \"Number of Patients\",  fill = \"Thallium Scintigraphy Test Results\") +\n",
    "    ggtitle(\"Figure 2: The Age of Patients\") +\n",
    "    scale_fill_brewer(palette = \"Reds\") +\n",
    "    theme(text = element_text(size = 20))\n",
    "cleveland_plot_2"
   ]
  },
  {
   "cell_type": "code",
   "execution_count": null,
   "id": "6fc94758-6ff4-4622-9a6b-3e3bf84d29ba",
   "metadata": {},
   "outputs": [],
   "source": [
    "cleveland_plot_3 <- cleveland_train |>\n",
    "    ggplot(aes(x = chol, fill = thal)) +\n",
    "    geom_histogram(binwidth = 10) +\n",
    "    labs(x = \"Serum Cholesterol (mg/dl)\", y = \"Number of Patients\",  fill = \"Thallium Scintigraphy Test Results\") +\n",
    "    ggtitle(\"Figure 3: The Serum Cholesterol Levels of Patients\") +\n",
    "    scale_fill_brewer(palette = \"Reds\") +\n",
    "    theme(text = element_text(size = 20))\n",
    "cleveland_plot_3"
   ]
  },
  {
   "cell_type": "code",
   "execution_count": null,
   "id": "3864ed1f-fccf-4c47-bf15-511d0f504489",
   "metadata": {},
   "outputs": [],
   "source": [
    "cleveland_plot_4 <- cleveland_train |>\n",
    "    ggplot(aes(x = thalach, fill = thal)) +\n",
    "    geom_histogram(binwidth = 5) +\n",
    "    labs(x = \"Maximum Heart Rate Achieved (bpm)\", y = \"Number of Patients\",  fill = \"Thallium Scintigraphy Test Results\") +\n",
    "    ggtitle(\"Figure 4: The Maximum Heart Rate Achieved by Patients\") +\n",
    "    scale_fill_brewer(palette = \"Reds\") +\n",
    "    theme(text = element_text(size = 20))\n",
    "cleveland_plot_4"
   ]
  },
  {
   "cell_type": "code",
   "execution_count": null,
   "id": "4d24239b-f82c-46c4-90d6-984d3ffe01c0",
   "metadata": {},
   "outputs": [],
   "source": [
    "cleveland_plot_5 <- cleveland_train |>\n",
    "    ggplot(aes(x = oldpeak, fill = thal)) +\n",
    "    geom_histogram(binwidth = 0.5) +\n",
    "    labs(x = \"ST Depression Induced by Exercise Relative to Rest (Units)\", y = \"Number of Patients\",  fill = \"Thallium Scintigraphy Test Results\") +\n",
    "    ggtitle(\"Figure 5: The Value of the ST Depression Induced by Exercise Relative to Rest in Patients\") +\n",
    "    scale_fill_brewer(palette = \"Reds\") +\n",
    "    theme(text = element_text(size = 20))\n",
    "cleveland_plot_5"
   ]
  },
  {
   "cell_type": "markdown",
   "id": "00ba5e56-a2c0-47de-b5d7-30a780b912f5",
   "metadata": {},
   "source": [
    "### Choosing a K Value"
   ]
  },
  {
   "cell_type": "markdown",
   "id": "0cfce849-d076-4d81-86dc-8eb8fade1ae8",
   "metadata": {},
   "source": [
    "To create the classification model, a seed was set to ensure that the cross-validation was reproducible. A recipe was created using `cleveland_training` to predict the class of **thal**, with **age**, **trestbps**, **chol**, **oldpeak**, and **thal** as predictors. A specification was created with k-nearest neighbours and the function `tune()` to set up cross-validation. The training data is then set to split into 5 equal folds using `vfold_cv` and setting `strata`to **thal**. A tibble was made with $k$ values from 1 to 20 because there are only 76 points in the test set and having higher k values would make testing less effective. A workflow was then created by adding the recipe, mode, and using `tune_grid` with the $k$ value Tibble. A graph using `geom_line` was made to see how accuracy changes at different $k$ values. We plot a graph comparing neighbours (k) and accuracy.\n",
    "\n",
    "Looking at the graph in **Figure 6**, the best $k$ value would be 17 as it has the highest accuracy and the accuracy of the adjacent points does not drop much. "
   ]
  },
  {
   "cell_type": "code",
   "execution_count": null,
   "id": "151d3575-a571-460d-91d6-d14d8c0d3bf3",
   "metadata": {},
   "outputs": [],
   "source": [
    "set.seed(69)\n",
    "\n",
    "cleveland_recipe <- recipe(thal ~ ., data = cleveland_train) |>\n",
    "    step_scale(all_predictors()) |>\n",
    "    step_center(all_predictors())\n",
    "\n",
    "knn_tune <- nearest_neighbor(weight_func = \"rectangular\", neighbors = tune()) |>\n",
    "       set_engine(\"kknn\") |>\n",
    "       set_mode(\"classification\")\n",
    "\n",
    "cleveland_vfold <- vfold_cv(cleveland_train, v = 5, strata = thal)\n",
    "\n",
    "k_value <- tibble(neighbors = seq(from = 2, to = 20, by = 1))\n",
    "\n",
    "cleveland_results <- workflow() |>\n",
    "       add_recipe(cleveland_recipe) |>\n",
    "       add_model(knn_tune) |>\n",
    "       tune_grid(resamples = cleveland_vfold, grid = k_value) |>\n",
    "       collect_metrics()\n",
    "\n",
    "cross_val_plot <- cleveland_results |>\n",
    "filter(.metric == \"accuracy\") |>\n",
    "ggplot(aes(x = neighbors, y = mean)) +\n",
    "  geom_point() +\n",
    "  geom_line() +\n",
    "  labs(x = \"Neighbors (k)\", y = \"Accuracy\", title = \"Figure 6: Accuracy of the Model for Each Nearest Neighbours\") +\n",
    "  theme(text = element_text(size = 20))\n",
    "cross_val_plot\n"
   ]
  },
  {
   "cell_type": "markdown",
   "id": "1047e3e8-d737-437e-a22b-305dea82e00f",
   "metadata": {},
   "source": [
    "### Building the Classification Model"
   ]
  },
  {
   "cell_type": "markdown",
   "id": "f84f6f50-8679-445d-a688-865ffe9c39c1",
   "metadata": {},
   "source": [
    "To build the model, we take the best $k$ value. We make a spec using a neighbors of 17 and then create a workflow with the new spec and fit it using the training set."
   ]
  },
  {
   "cell_type": "code",
   "execution_count": null,
   "id": "9db9f687-c370-4d30-a347-dcff1ab6a4ff",
   "metadata": {},
   "outputs": [],
   "source": [
    "cleveland_spec <- nearest_neighbor(weight_func = \"rectangular\", neighbors = 17) |>\n",
    "       set_engine(\"kknn\") |>\n",
    "       set_mode(\"classification\")\n",
    "\n",
    "cleveland_fit <- workflow() |>\n",
    "       add_recipe(cleveland_recipe) |>\n",
    "       add_model(cleveland_spec) |>\n",
    "       fit(data = cleveland_train)\n",
    "cleveland_fit\n"
   ]
  },
  {
   "cell_type": "markdown",
   "id": "98097b99-fa20-491b-bdc9-32c8edb2ed55",
   "metadata": {},
   "source": [
    "### Testing the Classification Model"
   ]
  },
  {
   "cell_type": "markdown",
   "id": "7722793d-5e5e-452a-9ff2-a958b8d9e655",
   "metadata": {},
   "source": [
    "To test the classification model using the test set, `predict` was used using `cleveland_fit` and `cleveland_test`. We then bind the predicted columns to the test set to see which classes were guessed correctly. The accuracy was determined using `metrics` and a confusion matrix was made using `conf_mat`."
   ]
  },
  {
   "cell_type": "markdown",
   "id": "5368326a-3899-4fba-bde7-debb2aaf8239",
   "metadata": {},
   "source": [
    "#### Table 9: Predicted Class Compared to Test Set Class "
   ]
  },
  {
   "cell_type": "code",
   "execution_count": null,
   "id": "488408d0-f354-417b-9798-a3d8521f590d",
   "metadata": {},
   "outputs": [],
   "source": [
    "cleveland_predictions <- predict(cleveland_fit, cleveland_test) |>\n",
    "       bind_cols(cleveland_test)\n",
    "cleveland_predictions"
   ]
  },
  {
   "cell_type": "markdown",
   "id": "2e8dbf10-969e-4cf3-966d-46c36b3ced34",
   "metadata": {},
   "source": [
    "#### Table 10: Accuracy of Classification Model on the Test Set"
   ]
  },
  {
   "cell_type": "code",
   "execution_count": null,
   "id": "9f5181e2-2520-47a5-ae42-95276d932493",
   "metadata": {},
   "outputs": [],
   "source": [
    "cleveland_metrics <- cleveland_predictions |>\n",
    "metrics(truth = thal, estimate = .pred_class) |>\n",
    "filter(.metric == \"accuracy\")\n",
    "cleveland_metrics"
   ]
  },
  {
   "cell_type": "markdown",
   "id": "35ed23a5-54ee-4d39-8dc8-bf595803b1ea",
   "metadata": {},
   "source": [
    "#### Table 11: Confusion Matrix of Classification Model on the Test Set"
   ]
  },
  {
   "cell_type": "code",
   "execution_count": null,
   "id": "6e7759a8-df86-4373-a01e-cbfb8b78b7da",
   "metadata": {},
   "outputs": [],
   "source": [
    "cleveland_conf_mat <- cleveland_predictions |>\n",
    "       conf_mat(truth = thal, estimate = .pred_class)\n",
    "cleveland_conf_mat"
   ]
  },
  {
   "cell_type": "markdown",
   "id": "9b84fb67-3975-4e90-8d71-f6444523ce09",
   "metadata": {},
   "source": [
    "#### Visualizations of How Predictors Impact Classification "
   ]
  },
  {
   "cell_type": "markdown",
   "id": "fdf2125d-b981-4fc2-a273-7ad89e945fb6",
   "metadata": {},
   "source": [
    "The following plots display real classes and misclassified data while comparing two predictors. All the graphs will compare **age** to another predictor variable. The true classes are plotted using `geom_point` and the misclassified points will also be identified/plotted on the graph (over top of the true classes) using `geom_point`. The misclassified points are identified by creating a new tibble that includes all the observations where `.pred_class` did not match `thal`. These graphs will be discussed further in the discussion section."
   ]
  },
  {
   "cell_type": "code",
   "execution_count": null,
   "id": "9e18af42-9b08-4779-b310-cca24e076cbb",
   "metadata": {},
   "outputs": [],
   "source": [
    "options(repr.plot.width = 18, repr.plot.height = 13)\n",
    "cleveland_misclass <- cleveland_predictions |>\n",
    "                filter(.pred_class != thal) |>\n",
    "                mutate(misclassified = .pred_class) \n",
    "\n",
    "misclass_plot_1_pred <- ggplot(cleveland_predictions, aes(x = age, y = trestbps, color = .pred_class, shape = .pred_class)) +\n",
    "                geom_point(size = 6) +\n",
    "                geom_point(data = cleveland_misclass, aes(x = age, y = trestbps, color = 'Misclassified'), size = 3) +\n",
    "                labs(x = \"Age (years)\", y = \"Resting Blood Pressure on Admission to Hospital (mmHg)\", \n",
    "                     title = \"Figure 7: Comparing the Effects of Age and Resting Blood Pressure on Classification\", \n",
    "                     color = \"Thallium Scintigraphy Test Results\", shape = \"Thallium Scintigraphy Test Results\") +\n",
    "                theme(text = element_text(size = 20))\n",
    "\n",
    "misclass_plot_1_pred"
   ]
  },
  {
   "cell_type": "code",
   "execution_count": null,
   "id": "9312b152-1a8a-48cb-ae0b-b46231777350",
   "metadata": {},
   "outputs": [],
   "source": [
    "misclass_plot_2_pred <- ggplot(cleveland_predictions, aes(x = age, y = thalach, color = .pred_class, shape = .pred_class)) +\n",
    "                geom_point(size = 6) +\n",
    "                geom_point(data = cleveland_misclass, aes(x = age, y = thalach, color = 'Misclassified'), size = 3) +\n",
    "                labs(x = \"Age\", y = \"Maximum Heart Rate Achieved (bpm)\", \n",
    "                     title = \"Figure 8: Comparing the Effects of Age and Maximum Heart Rate on Classification\", \n",
    "                     color = \"Thallium Scintigraphy Test Results\", shape = \"Thallium Scintigraphy Test Results\") +\n",
    "                theme(text = element_text(size = 20))\n",
    "misclass_plot_2_pred\n"
   ]
  },
  {
   "cell_type": "code",
   "execution_count": null,
   "id": "bfb789a4-677d-4a74-9dcf-e3c5f4d997fb",
   "metadata": {},
   "outputs": [],
   "source": [
    "misclass_plot_3_pred <- ggplot(cleveland_predictions, aes(x = age, y = oldpeak, color = .pred_class, shape = .pred_class)) +\n",
    "                geom_point(size = 6) +\n",
    "                geom_point(data = cleveland_misclass, aes(x = age, y = oldpeak, color = 'Misclassified'), size = 3) +\n",
    "                labs(x = \"Age (years)\", y = \"ST Depression Induced by Exercise Relative to Rest (Units)\", \n",
    "                     title = \"Figure 9: Comparing the Effects of Age and ST Depression on Classification\", \n",
    "                     color = \"Thallium Scintigraphy Test Results\", shape = \"Thallium Scintigraphy Test Results\") +\n",
    "                theme(text = element_text(size = 20))\n",
    "misclass_plot_3_pred"
   ]
  },
  {
   "cell_type": "code",
   "execution_count": null,
   "id": "c394240b-a7f2-4d17-8daf-a80341ecda79",
   "metadata": {},
   "outputs": [],
   "source": [
    "misclass_plot_2_pred <- ggplot(cleveland_predictions, aes(x = age, y = chol, color = .pred_class, shape = .pred_class)) +\n",
    "                geom_point(size = 6) +\n",
    "                geom_point(data = cleveland_misclass, aes(x = age, y = chol, color = 'Misclassified'), size = 3) +\n",
    "                labs(x = \"Age\", y = \"Maximum Heart Rate Achieved (bpm)\", \n",
    "                     title = \"Figure 10: Comparing the Effects of Age and Cholesterol on Classification\", \n",
    "                     color = \"Thallium Scintigraphy Test Results\", shape = \"Thallium Scintigraphy Test Results\") +\n",
    "                theme(text = element_text(size = 20))\n",
    "misclass_plot_2_pred"
   ]
  }
 ],
 "metadata": {
  "kernelspec": {
   "display_name": "R",
   "language": "R",
   "name": "ir"
  },
  "language_info": {
   "codemirror_mode": "r",
   "file_extension": ".r",
   "mimetype": "text/x-r-source",
   "name": "R",
   "pygments_lexer": "r",
   "version": "4.1.1"
  }
 },
 "nbformat": 4,
 "nbformat_minor": 5
}
