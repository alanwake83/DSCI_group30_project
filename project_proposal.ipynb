{
 "cells": [
  {
   "cell_type": "code",
   "execution_count": 1,
   "id": "fb8a3044-7905-4944-8d3e-c33187c20162",
   "metadata": {},
   "outputs": [
    {
     "name": "stderr",
     "output_type": "stream",
     "text": [
      "── \u001b[1mAttaching packages\u001b[22m ─────────────────────────────────────── tidyverse 1.3.1 ──\n",
      "\n",
      "\u001b[32m✔\u001b[39m \u001b[34mggplot2\u001b[39m 3.3.6     \u001b[32m✔\u001b[39m \u001b[34mpurrr  \u001b[39m 0.3.4\n",
      "\u001b[32m✔\u001b[39m \u001b[34mtibble \u001b[39m 3.1.7     \u001b[32m✔\u001b[39m \u001b[34mdplyr  \u001b[39m 1.0.9\n",
      "\u001b[32m✔\u001b[39m \u001b[34mtidyr  \u001b[39m 1.2.0     \u001b[32m✔\u001b[39m \u001b[34mstringr\u001b[39m 1.4.0\n",
      "\u001b[32m✔\u001b[39m \u001b[34mreadr  \u001b[39m 2.1.2     \u001b[32m✔\u001b[39m \u001b[34mforcats\u001b[39m 0.5.1\n",
      "\n",
      "── \u001b[1mConflicts\u001b[22m ────────────────────────────────────────── tidyverse_conflicts() ──\n",
      "\u001b[31m✖\u001b[39m \u001b[34mdplyr\u001b[39m::\u001b[32mfilter()\u001b[39m masks \u001b[34mstats\u001b[39m::filter()\n",
      "\u001b[31m✖\u001b[39m \u001b[34mdplyr\u001b[39m::\u001b[32mlag()\u001b[39m    masks \u001b[34mstats\u001b[39m::lag()\n",
      "\n",
      "── \u001b[1mAttaching packages\u001b[22m ────────────────────────────────────── tidymodels 1.0.0 ──\n",
      "\n",
      "\u001b[32m✔\u001b[39m \u001b[34mbroom       \u001b[39m 1.0.0     \u001b[32m✔\u001b[39m \u001b[34mrsample     \u001b[39m 1.0.0\n",
      "\u001b[32m✔\u001b[39m \u001b[34mdials       \u001b[39m 1.0.0     \u001b[32m✔\u001b[39m \u001b[34mtune        \u001b[39m 1.0.0\n",
      "\u001b[32m✔\u001b[39m \u001b[34minfer       \u001b[39m 1.0.2     \u001b[32m✔\u001b[39m \u001b[34mworkflows   \u001b[39m 1.0.0\n",
      "\u001b[32m✔\u001b[39m \u001b[34mmodeldata   \u001b[39m 1.0.0     \u001b[32m✔\u001b[39m \u001b[34mworkflowsets\u001b[39m 1.0.0\n",
      "\u001b[32m✔\u001b[39m \u001b[34mparsnip     \u001b[39m 1.0.0     \u001b[32m✔\u001b[39m \u001b[34myardstick   \u001b[39m 1.0.0\n",
      "\u001b[32m✔\u001b[39m \u001b[34mrecipes     \u001b[39m 1.0.1     \n",
      "\n",
      "── \u001b[1mConflicts\u001b[22m ───────────────────────────────────────── tidymodels_conflicts() ──\n",
      "\u001b[31m✖\u001b[39m \u001b[34mscales\u001b[39m::\u001b[32mdiscard()\u001b[39m masks \u001b[34mpurrr\u001b[39m::discard()\n",
      "\u001b[31m✖\u001b[39m \u001b[34mdplyr\u001b[39m::\u001b[32mfilter()\u001b[39m   masks \u001b[34mstats\u001b[39m::filter()\n",
      "\u001b[31m✖\u001b[39m \u001b[34mrecipes\u001b[39m::\u001b[32mfixed()\u001b[39m  masks \u001b[34mstringr\u001b[39m::fixed()\n",
      "\u001b[31m✖\u001b[39m \u001b[34mdplyr\u001b[39m::\u001b[32mlag()\u001b[39m      masks \u001b[34mstats\u001b[39m::lag()\n",
      "\u001b[31m✖\u001b[39m \u001b[34myardstick\u001b[39m::\u001b[32mspec()\u001b[39m masks \u001b[34mreadr\u001b[39m::spec()\n",
      "\u001b[31m✖\u001b[39m \u001b[34mrecipes\u001b[39m::\u001b[32mstep()\u001b[39m   masks \u001b[34mstats\u001b[39m::step()\n",
      "\u001b[34m•\u001b[39m Use suppressPackageStartupMessages() to eliminate package startup messages\n",
      "\n"
     ]
    }
   ],
   "source": [
    "library(tidyverse)\n",
    "library(repr)\n",
    "library(tidymodels)\n",
    "options(repr.matrix.max.rows = 6)"
   ]
  },
  {
   "cell_type": "markdown",
   "id": "fcc70f09-c6ff-41dc-9bff-b323e2e14afd",
   "metadata": {},
   "source": [
    "Table 1: Tidy Dataset"
   ]
  },
  {
   "cell_type": "code",
   "execution_count": 2,
   "id": "b06538c5-e56a-4106-b98e-541a13de3845",
   "metadata": {},
   "outputs": [
    {
     "name": "stderr",
     "output_type": "stream",
     "text": [
      "\u001b[1mRows: \u001b[22m\u001b[34m303\u001b[39m \u001b[1mColumns: \u001b[22m\u001b[34m14\u001b[39m\n",
      "\u001b[36m──\u001b[39m \u001b[1mColumn specification\u001b[22m \u001b[36m────────────────────────────────────────────────────────\u001b[39m\n",
      "\u001b[1mDelimiter:\u001b[22m \",\"\n",
      "\u001b[31mchr\u001b[39m  (2): X12, X13\n",
      "\u001b[32mdbl\u001b[39m (12): X1, X2, X3, X4, X5, X6, X7, X8, X9, X10, X11, X14\n",
      "\n",
      "\u001b[36mℹ\u001b[39m Use `spec()` to retrieve the full column specification for this data.\n",
      "\u001b[36mℹ\u001b[39m Specify the column types or set `show_col_types = FALSE` to quiet this message.\n"
     ]
    },
    {
     "data": {
      "text/html": [
       "<table class=\"dataframe\">\n",
       "<caption>A tibble: 303 × 6</caption>\n",
       "<thead>\n",
       "\t<tr><th scope=col>age</th><th scope=col>trestbps</th><th scope=col>chol</th><th scope=col>thalach</th><th scope=col>oldpeak</th><th scope=col>thal</th></tr>\n",
       "\t<tr><th scope=col>&lt;dbl&gt;</th><th scope=col>&lt;dbl&gt;</th><th scope=col>&lt;dbl&gt;</th><th scope=col>&lt;dbl&gt;</th><th scope=col>&lt;dbl&gt;</th><th scope=col>&lt;fct&gt;</th></tr>\n",
       "</thead>\n",
       "<tbody>\n",
       "\t<tr><td>63</td><td>145</td><td>233</td><td>150</td><td>2.3</td><td>fixed_defect     </td></tr>\n",
       "\t<tr><td>67</td><td>160</td><td>286</td><td>108</td><td>1.5</td><td>normal           </td></tr>\n",
       "\t<tr><td>67</td><td>120</td><td>229</td><td>129</td><td>2.6</td><td>reversible_defect</td></tr>\n",
       "\t<tr><td>⋮</td><td>⋮</td><td>⋮</td><td>⋮</td><td>⋮</td><td>⋮</td></tr>\n",
       "\t<tr><td>57</td><td>130</td><td>131</td><td>115</td><td>1.2</td><td>reversible_defect</td></tr>\n",
       "\t<tr><td>57</td><td>130</td><td>236</td><td>174</td><td>0.0</td><td>normal           </td></tr>\n",
       "\t<tr><td>38</td><td>138</td><td>175</td><td>173</td><td>0.0</td><td>normal           </td></tr>\n",
       "</tbody>\n",
       "</table>\n"
      ],
      "text/latex": [
       "A tibble: 303 × 6\n",
       "\\begin{tabular}{llllll}\n",
       " age & trestbps & chol & thalach & oldpeak & thal\\\\\n",
       " <dbl> & <dbl> & <dbl> & <dbl> & <dbl> & <fct>\\\\\n",
       "\\hline\n",
       "\t 63 & 145 & 233 & 150 & 2.3 & fixed\\_defect     \\\\\n",
       "\t 67 & 160 & 286 & 108 & 1.5 & normal           \\\\\n",
       "\t 67 & 120 & 229 & 129 & 2.6 & reversible\\_defect\\\\\n",
       "\t ⋮ & ⋮ & ⋮ & ⋮ & ⋮ & ⋮\\\\\n",
       "\t 57 & 130 & 131 & 115 & 1.2 & reversible\\_defect\\\\\n",
       "\t 57 & 130 & 236 & 174 & 0.0 & normal           \\\\\n",
       "\t 38 & 138 & 175 & 173 & 0.0 & normal           \\\\\n",
       "\\end{tabular}\n"
      ],
      "text/markdown": [
       "\n",
       "A tibble: 303 × 6\n",
       "\n",
       "| age &lt;dbl&gt; | trestbps &lt;dbl&gt; | chol &lt;dbl&gt; | thalach &lt;dbl&gt; | oldpeak &lt;dbl&gt; | thal &lt;fct&gt; |\n",
       "|---|---|---|---|---|---|\n",
       "| 63 | 145 | 233 | 150 | 2.3 | fixed_defect      |\n",
       "| 67 | 160 | 286 | 108 | 1.5 | normal            |\n",
       "| 67 | 120 | 229 | 129 | 2.6 | reversible_defect |\n",
       "| ⋮ | ⋮ | ⋮ | ⋮ | ⋮ | ⋮ |\n",
       "| 57 | 130 | 131 | 115 | 1.2 | reversible_defect |\n",
       "| 57 | 130 | 236 | 174 | 0.0 | normal            |\n",
       "| 38 | 138 | 175 | 173 | 0.0 | normal            |\n",
       "\n"
      ],
      "text/plain": [
       "    age trestbps chol thalach oldpeak thal             \n",
       "1   63  145      233  150     2.3     fixed_defect     \n",
       "2   67  160      286  108     1.5     normal           \n",
       "3   67  120      229  129     2.6     reversible_defect\n",
       "⋮   ⋮   ⋮        ⋮    ⋮       ⋮       ⋮                \n",
       "301 57  130      131  115     1.2     reversible_defect\n",
       "302 57  130      236  174     0.0     normal           \n",
       "303 38  138      175  173     0.0     normal           "
      ]
     },
     "metadata": {},
     "output_type": "display_data"
    }
   ],
   "source": [
    "cleveland_data <- read_csv(\"https://archive.ics.uci.edu/ml/machine-learning-databases/heart-disease/processed.cleveland.data\",\n",
    "        col_names = FALSE)\n",
    "\n",
    "colnames(cleveland_data) <- c(\"age\", \"sex\", \"cp\", \"trestbps\", \"chol\", \"fbs\", \"restecg\", \"thalach\", \"exang\", \"oldpeak\", \"slope\", \"ca\", \"thal\", \"num\")\n",
    "\n",
    "tidy_cleveland_data <- cleveland_data |>\n",
    "select(\"age\", \"trestbps\", \"chol\", \"thalach\", \"oldpeak\", \"thal\") |>\n",
    "mutate(across(age:thal, ~na_if(., \"?\"))) #https://dplyr.tidyverse.org/reference/na_if.html\n",
    "tidy_cleveland_data$thal[tidy_cleveland_data$thal == \"3.0\"] <- \"normal\" #https://sparkbyexamples.com/r-programming/replace-values-in-r/#:~:text=To%20replace%20a%20column%20value,single%20column%20use%20df%24column_name%20.\n",
    "tidy_cleveland_data$thal[tidy_cleveland_data$thal == \"6.0\"] <- \"fixed_defect\" #https://sparkbyexamples.com/r-programming/replace-values-in-r/#:~:text=To%20replace%20a%20column%20value,single%20column%20use%20df%24column_name%20.\n",
    "tidy_cleveland_data$thal[tidy_cleveland_data$thal == \"7.0\"] <- \"reversible_defect\" #https://sparkbyexamples.com/r-programming/replace-values-in-r/#:~:text=To%20replace%20a%20column%20value,single%20column%20use%20df%24column_name%20.\n",
    "tidy_cleveland_data <- mutate(tidy_cleveland_data, thal = as.factor(thal))\n",
    "tidy_cleveland_data"
   ]
  },
  {
   "cell_type": "code",
   "execution_count": 3,
   "id": "2c881a33-0fe4-4a82-a38e-edcb30b8db8f",
   "metadata": {},
   "outputs": [
    {
     "data": {
      "text/html": [
       "<table class=\"dataframe\">\n",
       "<caption>A tibble: 227 × 6</caption>\n",
       "<thead>\n",
       "\t<tr><th scope=col>age</th><th scope=col>trestbps</th><th scope=col>chol</th><th scope=col>thalach</th><th scope=col>oldpeak</th><th scope=col>thal</th></tr>\n",
       "\t<tr><th scope=col>&lt;dbl&gt;</th><th scope=col>&lt;dbl&gt;</th><th scope=col>&lt;dbl&gt;</th><th scope=col>&lt;dbl&gt;</th><th scope=col>&lt;dbl&gt;</th><th scope=col>&lt;fct&gt;</th></tr>\n",
       "</thead>\n",
       "<tbody>\n",
       "\t<tr><td>63</td><td>145</td><td>233</td><td>150</td><td>2.3</td><td>fixed_defect</td></tr>\n",
       "\t<tr><td>37</td><td>130</td><td>250</td><td>187</td><td>3.5</td><td>normal      </td></tr>\n",
       "\t<tr><td>41</td><td>130</td><td>204</td><td>172</td><td>1.4</td><td>normal      </td></tr>\n",
       "\t<tr><td>⋮</td><td>⋮</td><td>⋮</td><td>⋮</td><td>⋮</td><td>⋮</td></tr>\n",
       "\t<tr><td>63</td><td>140</td><td>187</td><td>144</td><td>4.0</td><td>reversible_defect</td></tr>\n",
       "\t<tr><td>68</td><td>144</td><td>193</td><td>141</td><td>3.4</td><td>reversible_defect</td></tr>\n",
       "\t<tr><td>57</td><td>130</td><td>131</td><td>115</td><td>1.2</td><td>reversible_defect</td></tr>\n",
       "</tbody>\n",
       "</table>\n"
      ],
      "text/latex": [
       "A tibble: 227 × 6\n",
       "\\begin{tabular}{llllll}\n",
       " age & trestbps & chol & thalach & oldpeak & thal\\\\\n",
       " <dbl> & <dbl> & <dbl> & <dbl> & <dbl> & <fct>\\\\\n",
       "\\hline\n",
       "\t 63 & 145 & 233 & 150 & 2.3 & fixed\\_defect\\\\\n",
       "\t 37 & 130 & 250 & 187 & 3.5 & normal      \\\\\n",
       "\t 41 & 130 & 204 & 172 & 1.4 & normal      \\\\\n",
       "\t ⋮ & ⋮ & ⋮ & ⋮ & ⋮ & ⋮\\\\\n",
       "\t 63 & 140 & 187 & 144 & 4.0 & reversible\\_defect\\\\\n",
       "\t 68 & 144 & 193 & 141 & 3.4 & reversible\\_defect\\\\\n",
       "\t 57 & 130 & 131 & 115 & 1.2 & reversible\\_defect\\\\\n",
       "\\end{tabular}\n"
      ],
      "text/markdown": [
       "\n",
       "A tibble: 227 × 6\n",
       "\n",
       "| age &lt;dbl&gt; | trestbps &lt;dbl&gt; | chol &lt;dbl&gt; | thalach &lt;dbl&gt; | oldpeak &lt;dbl&gt; | thal &lt;fct&gt; |\n",
       "|---|---|---|---|---|---|\n",
       "| 63 | 145 | 233 | 150 | 2.3 | fixed_defect |\n",
       "| 37 | 130 | 250 | 187 | 3.5 | normal       |\n",
       "| 41 | 130 | 204 | 172 | 1.4 | normal       |\n",
       "| ⋮ | ⋮ | ⋮ | ⋮ | ⋮ | ⋮ |\n",
       "| 63 | 140 | 187 | 144 | 4.0 | reversible_defect |\n",
       "| 68 | 144 | 193 | 141 | 3.4 | reversible_defect |\n",
       "| 57 | 130 | 131 | 115 | 1.2 | reversible_defect |\n",
       "\n"
      ],
      "text/plain": [
       "    age trestbps chol thalach oldpeak thal             \n",
       "1   63  145      233  150     2.3     fixed_defect     \n",
       "2   37  130      250  187     3.5     normal           \n",
       "3   41  130      204  172     1.4     normal           \n",
       "⋮   ⋮   ⋮        ⋮    ⋮       ⋮       ⋮                \n",
       "225 63  140      187  144     4.0     reversible_defect\n",
       "226 68  144      193  141     3.4     reversible_defect\n",
       "227 57  130      131  115     1.2     reversible_defect"
      ]
     },
     "metadata": {},
     "output_type": "display_data"
    },
    {
     "data": {
      "text/html": [
       "<table class=\"dataframe\">\n",
       "<caption>A tibble: 76 × 6</caption>\n",
       "<thead>\n",
       "\t<tr><th scope=col>age</th><th scope=col>trestbps</th><th scope=col>chol</th><th scope=col>thalach</th><th scope=col>oldpeak</th><th scope=col>thal</th></tr>\n",
       "\t<tr><th scope=col>&lt;dbl&gt;</th><th scope=col>&lt;dbl&gt;</th><th scope=col>&lt;dbl&gt;</th><th scope=col>&lt;dbl&gt;</th><th scope=col>&lt;dbl&gt;</th><th scope=col>&lt;fct&gt;</th></tr>\n",
       "</thead>\n",
       "<tbody>\n",
       "\t<tr><td>67</td><td>160</td><td>286</td><td>108</td><td>1.5</td><td>normal           </td></tr>\n",
       "\t<tr><td>67</td><td>120</td><td>229</td><td>129</td><td>2.6</td><td>reversible_defect</td></tr>\n",
       "\t<tr><td>62</td><td>140</td><td>268</td><td>160</td><td>3.6</td><td>normal           </td></tr>\n",
       "\t<tr><td>⋮</td><td>⋮</td><td>⋮</td><td>⋮</td><td>⋮</td><td>⋮</td></tr>\n",
       "\t<tr><td>57</td><td>140</td><td>241</td><td>123</td><td>0.2</td><td>reversible_defect</td></tr>\n",
       "\t<tr><td>45</td><td>110</td><td>264</td><td>132</td><td>1.2</td><td>reversible_defect</td></tr>\n",
       "\t<tr><td>57</td><td>130</td><td>236</td><td>174</td><td>0.0</td><td>normal           </td></tr>\n",
       "</tbody>\n",
       "</table>\n"
      ],
      "text/latex": [
       "A tibble: 76 × 6\n",
       "\\begin{tabular}{llllll}\n",
       " age & trestbps & chol & thalach & oldpeak & thal\\\\\n",
       " <dbl> & <dbl> & <dbl> & <dbl> & <dbl> & <fct>\\\\\n",
       "\\hline\n",
       "\t 67 & 160 & 286 & 108 & 1.5 & normal           \\\\\n",
       "\t 67 & 120 & 229 & 129 & 2.6 & reversible\\_defect\\\\\n",
       "\t 62 & 140 & 268 & 160 & 3.6 & normal           \\\\\n",
       "\t ⋮ & ⋮ & ⋮ & ⋮ & ⋮ & ⋮\\\\\n",
       "\t 57 & 140 & 241 & 123 & 0.2 & reversible\\_defect\\\\\n",
       "\t 45 & 110 & 264 & 132 & 1.2 & reversible\\_defect\\\\\n",
       "\t 57 & 130 & 236 & 174 & 0.0 & normal           \\\\\n",
       "\\end{tabular}\n"
      ],
      "text/markdown": [
       "\n",
       "A tibble: 76 × 6\n",
       "\n",
       "| age &lt;dbl&gt; | trestbps &lt;dbl&gt; | chol &lt;dbl&gt; | thalach &lt;dbl&gt; | oldpeak &lt;dbl&gt; | thal &lt;fct&gt; |\n",
       "|---|---|---|---|---|---|\n",
       "| 67 | 160 | 286 | 108 | 1.5 | normal            |\n",
       "| 67 | 120 | 229 | 129 | 2.6 | reversible_defect |\n",
       "| 62 | 140 | 268 | 160 | 3.6 | normal            |\n",
       "| ⋮ | ⋮ | ⋮ | ⋮ | ⋮ | ⋮ |\n",
       "| 57 | 140 | 241 | 123 | 0.2 | reversible_defect |\n",
       "| 45 | 110 | 264 | 132 | 1.2 | reversible_defect |\n",
       "| 57 | 130 | 236 | 174 | 0.0 | normal            |\n",
       "\n"
      ],
      "text/plain": [
       "   age trestbps chol thalach oldpeak thal             \n",
       "1  67  160      286  108     1.5     normal           \n",
       "2  67  120      229  129     2.6     reversible_defect\n",
       "3  62  140      268  160     3.6     normal           \n",
       "⋮  ⋮   ⋮        ⋮    ⋮       ⋮       ⋮                \n",
       "74 57  140      241  123     0.2     reversible_defect\n",
       "75 45  110      264  132     1.2     reversible_defect\n",
       "76 57  130      236  174     0.0     normal           "
      ]
     },
     "metadata": {},
     "output_type": "display_data"
    }
   ],
   "source": [
    "set.seed(234) \n",
    "cleveland_split <- initial_split(tidy_cleveland_data, prop = 0.75, strata = thal)  \n",
    "cleveland_train <- training(cleveland_split)   \n",
    "cleveland_test <- testing(cleveland_split)\n",
    "cleveland_train\n",
    "cleveland_test"
   ]
  },
  {
   "cell_type": "code",
   "execution_count": 6,
   "id": "8c0b4df8-7e35-425a-8051-89a7f109946b",
   "metadata": {},
   "outputs": [
    {
     "data": {
      "text/html": [
       "<table class=\"dataframe\">\n",
       "<caption>A tibble: 1 × 5</caption>\n",
       "<thead>\n",
       "\t<tr><th scope=col>age</th><th scope=col>trestbps</th><th scope=col>chol</th><th scope=col>thalach</th><th scope=col>oldpeak</th></tr>\n",
       "\t<tr><th scope=col>&lt;dbl&gt;</th><th scope=col>&lt;dbl&gt;</th><th scope=col>&lt;dbl&gt;</th><th scope=col>&lt;dbl&gt;</th><th scope=col>&lt;dbl&gt;</th></tr>\n",
       "</thead>\n",
       "<tbody>\n",
       "\t<tr><td>53.95595</td><td>131.5903</td><td>244.2952</td><td>150.5507</td><td>1.040088</td></tr>\n",
       "</tbody>\n",
       "</table>\n"
      ],
      "text/latex": [
       "A tibble: 1 × 5\n",
       "\\begin{tabular}{lllll}\n",
       " age & trestbps & chol & thalach & oldpeak\\\\\n",
       " <dbl> & <dbl> & <dbl> & <dbl> & <dbl>\\\\\n",
       "\\hline\n",
       "\t 53.95595 & 131.5903 & 244.2952 & 150.5507 & 1.040088\\\\\n",
       "\\end{tabular}\n"
      ],
      "text/markdown": [
       "\n",
       "A tibble: 1 × 5\n",
       "\n",
       "| age &lt;dbl&gt; | trestbps &lt;dbl&gt; | chol &lt;dbl&gt; | thalach &lt;dbl&gt; | oldpeak &lt;dbl&gt; |\n",
       "|---|---|---|---|---|\n",
       "| 53.95595 | 131.5903 | 244.2952 | 150.5507 | 1.040088 |\n",
       "\n"
      ],
      "text/plain": [
       "  age      trestbps chol     thalach  oldpeak \n",
       "1 53.95595 131.5903 244.2952 150.5507 1.040088"
      ]
     },
     "metadata": {},
     "output_type": "display_data"
    },
    {
     "data": {
      "text/html": [
       "<table class=\"dataframe\">\n",
       "<caption>A tibble: 4 × 2</caption>\n",
       "<thead>\n",
       "\t<tr><th scope=col>thal</th><th scope=col>count</th></tr>\n",
       "\t<tr><th scope=col>&lt;fct&gt;</th><th scope=col>&lt;int&gt;</th></tr>\n",
       "</thead>\n",
       "<tbody>\n",
       "\t<tr><td>fixed_defect     </td><td> 12</td></tr>\n",
       "\t<tr><td>normal           </td><td>126</td></tr>\n",
       "\t<tr><td>reversible_defect</td><td> 88</td></tr>\n",
       "\t<tr><td>NA               </td><td>  1</td></tr>\n",
       "</tbody>\n",
       "</table>\n"
      ],
      "text/latex": [
       "A tibble: 4 × 2\n",
       "\\begin{tabular}{ll}\n",
       " thal & count\\\\\n",
       " <fct> & <int>\\\\\n",
       "\\hline\n",
       "\t fixed\\_defect      &  12\\\\\n",
       "\t normal            & 126\\\\\n",
       "\t reversible\\_defect &  88\\\\\n",
       "\t NA                &   1\\\\\n",
       "\\end{tabular}\n"
      ],
      "text/markdown": [
       "\n",
       "A tibble: 4 × 2\n",
       "\n",
       "| thal &lt;fct&gt; | count &lt;int&gt; |\n",
       "|---|---|\n",
       "| fixed_defect      |  12 |\n",
       "| normal            | 126 |\n",
       "| reversible_defect |  88 |\n",
       "| NA                |   1 |\n",
       "\n"
      ],
      "text/plain": [
       "  thal              count\n",
       "1 fixed_defect       12  \n",
       "2 normal            126  \n",
       "3 reversible_defect  88  \n",
       "4 NA                  1  "
      ]
     },
     "metadata": {},
     "output_type": "display_data"
    },
    {
     "data": {
      "text/html": [
       "<table class=\"dataframe\">\n",
       "<caption>A tibble: 1 × 6</caption>\n",
       "<thead>\n",
       "\t<tr><th scope=col>age</th><th scope=col>trestbps</th><th scope=col>chol</th><th scope=col>thalach</th><th scope=col>oldpeak</th><th scope=col>thal</th></tr>\n",
       "\t<tr><th scope=col>&lt;dbl&gt;</th><th scope=col>&lt;dbl&gt;</th><th scope=col>&lt;dbl&gt;</th><th scope=col>&lt;dbl&gt;</th><th scope=col>&lt;dbl&gt;</th><th scope=col>&lt;fct&gt;</th></tr>\n",
       "</thead>\n",
       "<tbody>\n",
       "\t<tr><td>53</td><td>128</td><td>216</td><td>115</td><td>0</td><td>NA</td></tr>\n",
       "</tbody>\n",
       "</table>\n"
      ],
      "text/latex": [
       "A tibble: 1 × 6\n",
       "\\begin{tabular}{llllll}\n",
       " age & trestbps & chol & thalach & oldpeak & thal\\\\\n",
       " <dbl> & <dbl> & <dbl> & <dbl> & <dbl> & <fct>\\\\\n",
       "\\hline\n",
       "\t 53 & 128 & 216 & 115 & 0 & NA\\\\\n",
       "\\end{tabular}\n"
      ],
      "text/markdown": [
       "\n",
       "A tibble: 1 × 6\n",
       "\n",
       "| age &lt;dbl&gt; | trestbps &lt;dbl&gt; | chol &lt;dbl&gt; | thalach &lt;dbl&gt; | oldpeak &lt;dbl&gt; | thal &lt;fct&gt; |\n",
       "|---|---|---|---|---|---|\n",
       "| 53 | 128 | 216 | 115 | 0 | NA |\n",
       "\n"
      ],
      "text/plain": [
       "  age trestbps chol thalach oldpeak thal\n",
       "1 53  128      216  115     0       NA  "
      ]
     },
     "metadata": {},
     "output_type": "display_data"
    }
   ],
   "source": [
    "cleveland_table <- cleveland_train |>\n",
    "summarize(across(age:oldpeak, mean))\n",
    "cleveland_table\n",
    "\n",
    "cleveland_table_2 <- group_by(cleveland_train, thal) |>\n",
    "summarize(count = n())\n",
    "cleveland_table_2\n",
    "\n",
    "cleveland_table_3 <- cleveland_train[!complete.cases(cleveland_train), ] #https://www.easytweaks.com/select-rows-na-missing-values-r/#:~:text=In%20order%20to%20find%20rows,to%20subset%20the%20DataFrame%20rows.\n",
    "cleveland_table_3"
   ]
  },
  {
   "cell_type": "code",
   "execution_count": null,
   "id": "20d97e29-726b-435e-85a2-c206c41f0b75",
   "metadata": {},
   "outputs": [],
   "source": []
  }
 ],
 "metadata": {
  "kernelspec": {
   "display_name": "R",
   "language": "R",
   "name": "ir"
  },
  "language_info": {
   "codemirror_mode": "r",
   "file_extension": ".r",
   "mimetype": "text/x-r-source",
   "name": "R",
   "pygments_lexer": "r",
   "version": "4.1.3"
  }
 },
 "nbformat": 4,
 "nbformat_minor": 5
}
